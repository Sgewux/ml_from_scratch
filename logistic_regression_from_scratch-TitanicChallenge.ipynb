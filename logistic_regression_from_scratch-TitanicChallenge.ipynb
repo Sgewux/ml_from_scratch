{
 "cells": [
  {
   "cell_type": "markdown",
   "id": "7dcea71a",
   "metadata": {
    "papermill": {
     "duration": 0.004842,
     "end_time": "2022-07-07T17:11:51.142708",
     "exception": false,
     "start_time": "2022-07-07T17:11:51.137866",
     "status": "completed"
    },
    "tags": []
   },
   "source": [
    "# Logistic Regression from scratch\n",
    "In this notebook i solved a binary classification problem: \"Titanic - Machine Learning from Disaster\" from Kaggle. To solve the problem i used a Stochastic Gradient Descent implementation of Logistic Regression, and uses the Sigmoid probablity outcome to classify an input by applying a threshold to its probablity of belonging to the positive class."
   ]
  },
  {
   "cell_type": "code",
   "execution_count": 1,
   "id": "dfd6159a",
   "metadata": {
    "_cell_guid": "b1076dfc-b9ad-4769-8c92-a6c4dae69d19",
    "_uuid": "8f2839f25d086af736a60e9eeb907d3b93b6e0e5",
    "execution": {
     "iopub.execute_input": "2022-07-07T17:11:51.152118Z",
     "iopub.status.busy": "2022-07-07T17:11:51.151684Z",
     "iopub.status.idle": "2022-07-07T17:11:52.394197Z",
     "shell.execute_reply": "2022-07-07T17:11:52.392942Z"
    },
    "papermill": {
     "duration": 1.251351,
     "end_time": "2022-07-07T17:11:52.397837",
     "exception": false,
     "start_time": "2022-07-07T17:11:51.146486",
     "status": "completed"
    },
    "tags": []
   },
   "outputs": [],
   "source": [
    "import numpy as np \n",
    "import pandas as pd\n",
    "from sklearn import metrics\n",
    "from sklearn.model_selection import train_test_split"
   ]
  },
  {
   "cell_type": "markdown",
   "id": "2ef2b5e8",
   "metadata": {
    "papermill": {
     "duration": 0.003352,
     "end_time": "2022-07-07T17:11:52.405234",
     "exception": false,
     "start_time": "2022-07-07T17:11:52.401882",
     "status": "completed"
    },
    "tags": []
   },
   "source": [
    "# Logistic Regression implementation\n",
    "Using stochastic gradient descent"
   ]
  },
  {
   "cell_type": "code",
   "execution_count": 2,
   "id": "87bbccfa",
   "metadata": {
    "execution": {
     "iopub.execute_input": "2022-07-07T17:11:52.414264Z",
     "iopub.status.busy": "2022-07-07T17:11:52.413846Z",
     "iopub.status.idle": "2022-07-07T17:11:52.432377Z",
     "shell.execute_reply": "2022-07-07T17:11:52.431377Z"
    },
    "papermill": {
     "duration": 0.026584,
     "end_time": "2022-07-07T17:11:52.435184",
     "exception": false,
     "start_time": "2022-07-07T17:11:52.408600",
     "status": "completed"
    },
    "tags": []
   },
   "outputs": [],
   "source": [
    "class LogisticRegressor:\n",
    "    def __init__(self, threshold, lr=0.001, verbose=False):\n",
    "        self.lr = lr # Learning rate\n",
    "        self.threshold = threshold # Classification threshold\n",
    "        self.verbose = verbose # Whether to show how loss is decreasing or not\n",
    "    \n",
    "    def _log_loss(self, y, y_pred):\n",
    "        return -1 * np.mean(y*np.log(y_pred) + (1-y)*np.log(1-y_pred))\n",
    "        \n",
    "    def _sigmoid(self, z):\n",
    "        '''Sigmoid function'''\n",
    "        return 1 / (1 + np.exp(-z))\n",
    "    \n",
    "    def _z(self, X, w, b):\n",
    "        '''Linear function to give to sigmoid as param'''\n",
    "        return X.dot(w) + b\n",
    "    \n",
    "    def _sigmoid_dz(self, z):\n",
    "        '''Derivative of sigmoid in respect to z'''\n",
    "        return ( (np.exp(-z)) / (1 + np.exp(-z))**2 )\n",
    "    \n",
    "    def _loss_dy(self, y, y_pred):\n",
    "        '''Derivative of log loss in respect to model predictions i.e sigmoid(z)'''\n",
    "        return (-y/y_pred) + ( (1-y)/(1-y_pred) )\n",
    "    \n",
    "    def fit(self, X, y):\n",
    "        self.w = np.ones(X.shape[1]) # Init weights\n",
    "        self.b = 0 # Init Bias\n",
    "        \n",
    "        # Stochasitc gradient descent\n",
    "        for epoch in range(100): # Epochs\n",
    "            if self.verbose == True:\n",
    "                z_epoch = self._z(X, self.w, self.b)\n",
    "                y_pred_epoch = self._sigmoid(z_epoch)\n",
    "                epoch_loss = self._log_loss(y, y_pred_epoch)\n",
    "                print(f\"Current loss for epoch {epoch} = {epoch_loss}\")\n",
    "                \n",
    "            for i in range(X.shape[0]): # Examples\n",
    "                z = self._z(X[i], self.w, self.b)\n",
    "                y_pred = self._sigmoid(z)\n",
    "                dc_dz = self._loss_dy(y[i], y_pred) * self._sigmoid_dz(z)\n",
    "                \n",
    "                # Updating weights with cost derivative in respect to a given weight\n",
    "                self.w = self.w - (self.lr * (dc_dz*X[i]) )\n",
    "                self.b = self.b - (self.lr * dc_dz)\n",
    "                                \n",
    "    def predict(self, x):\n",
    "        '''Predict probablities'''\n",
    "        return self._sigmoid(self._z(x, self.w, self.b))\n",
    "    \n",
    "    def classify(self, x):\n",
    "        '''Classify in function of probabilities'''\n",
    "        prob = self.predict(x)\n",
    "        # Positive class if prob >= threshold, else negative class\n",
    "        return np.array(list(map(lambda a: 1 if a >= self.threshold else 0, prob)))"
   ]
  },
  {
   "cell_type": "markdown",
   "id": "a5cb70b0",
   "metadata": {
    "papermill": {
     "duration": 0.003281,
     "end_time": "2022-07-07T17:11:52.442246",
     "exception": false,
     "start_time": "2022-07-07T17:11:52.438965",
     "status": "completed"
    },
    "tags": []
   },
   "source": [
    "# Data preparation\n",
    "Turning raw data into useful features"
   ]
  },
  {
   "cell_type": "code",
   "execution_count": 3,
   "id": "2145c422",
   "metadata": {
    "execution": {
     "iopub.execute_input": "2022-07-07T17:11:52.451047Z",
     "iopub.status.busy": "2022-07-07T17:11:52.450546Z",
     "iopub.status.idle": "2022-07-07T17:11:52.516864Z",
     "shell.execute_reply": "2022-07-07T17:11:52.515678Z"
    },
    "papermill": {
     "duration": 0.073851,
     "end_time": "2022-07-07T17:11:52.519547",
     "exception": false,
     "start_time": "2022-07-07T17:11:52.445696",
     "status": "completed"
    },
    "tags": []
   },
   "outputs": [
    {
     "data": {
      "text/html": [
       "<div>\n",
       "<style scoped>\n",
       "    .dataframe tbody tr th:only-of-type {\n",
       "        vertical-align: middle;\n",
       "    }\n",
       "\n",
       "    .dataframe tbody tr th {\n",
       "        vertical-align: top;\n",
       "    }\n",
       "\n",
       "    .dataframe thead th {\n",
       "        text-align: right;\n",
       "    }\n",
       "</style>\n",
       "<table border=\"1\" class=\"dataframe\">\n",
       "  <thead>\n",
       "    <tr style=\"text-align: right;\">\n",
       "      <th></th>\n",
       "      <th>Survived</th>\n",
       "      <th>Age</th>\n",
       "      <th>SibSp</th>\n",
       "      <th>Parch</th>\n",
       "      <th>is_female</th>\n",
       "      <th>is_male</th>\n",
       "      <th>is_from_class_1</th>\n",
       "      <th>is_from_class_2</th>\n",
       "      <th>is_from_class_3</th>\n",
       "    </tr>\n",
       "  </thead>\n",
       "  <tbody>\n",
       "    <tr>\n",
       "      <th>0</th>\n",
       "      <td>0</td>\n",
       "      <td>-0.592148</td>\n",
       "      <td>1</td>\n",
       "      <td>0</td>\n",
       "      <td>0</td>\n",
       "      <td>1</td>\n",
       "      <td>0</td>\n",
       "      <td>0</td>\n",
       "      <td>1</td>\n",
       "    </tr>\n",
       "    <tr>\n",
       "      <th>1</th>\n",
       "      <td>1</td>\n",
       "      <td>0.638430</td>\n",
       "      <td>1</td>\n",
       "      <td>0</td>\n",
       "      <td>1</td>\n",
       "      <td>0</td>\n",
       "      <td>1</td>\n",
       "      <td>0</td>\n",
       "      <td>0</td>\n",
       "    </tr>\n",
       "    <tr>\n",
       "      <th>2</th>\n",
       "      <td>1</td>\n",
       "      <td>-0.284503</td>\n",
       "      <td>0</td>\n",
       "      <td>0</td>\n",
       "      <td>1</td>\n",
       "      <td>0</td>\n",
       "      <td>0</td>\n",
       "      <td>0</td>\n",
       "      <td>1</td>\n",
       "    </tr>\n",
       "    <tr>\n",
       "      <th>3</th>\n",
       "      <td>1</td>\n",
       "      <td>0.407697</td>\n",
       "      <td>1</td>\n",
       "      <td>0</td>\n",
       "      <td>1</td>\n",
       "      <td>0</td>\n",
       "      <td>1</td>\n",
       "      <td>0</td>\n",
       "      <td>0</td>\n",
       "    </tr>\n",
       "    <tr>\n",
       "      <th>4</th>\n",
       "      <td>0</td>\n",
       "      <td>0.407697</td>\n",
       "      <td>0</td>\n",
       "      <td>0</td>\n",
       "      <td>0</td>\n",
       "      <td>1</td>\n",
       "      <td>0</td>\n",
       "      <td>0</td>\n",
       "      <td>1</td>\n",
       "    </tr>\n",
       "  </tbody>\n",
       "</table>\n",
       "</div>"
      ],
      "text/plain": [
       "   Survived       Age  SibSp  Parch  is_female  is_male  is_from_class_1  \\\n",
       "0         0 -0.592148      1      0          0        1                0   \n",
       "1         1  0.638430      1      0          1        0                1   \n",
       "2         1 -0.284503      0      0          1        0                0   \n",
       "3         1  0.407697      1      0          1        0                1   \n",
       "4         0  0.407697      0      0          0        1                0   \n",
       "\n",
       "   is_from_class_2  is_from_class_3  \n",
       "0                0                1  \n",
       "1                0                0  \n",
       "2                0                1  \n",
       "3                0                0  \n",
       "4                0                1  "
      ]
     },
     "execution_count": 3,
     "metadata": {},
     "output_type": "execute_result"
    }
   ],
   "source": [
    "columns_to_exclude = ['Name','Ticket', 'Fare', 'Embarked', 'PassengerId', 'Cabin']\n",
    "df = pd.read_csv('/kaggle/input/titanic/train.csv')\n",
    "\n",
    "# Dropping columns with no predicting power\n",
    "df.drop(labels=columns_to_exclude, inplace=True, axis=1)\n",
    "\n",
    "# Filling NaN values with colomn mean for age column.\n",
    "df.fillna(value=df['Age'].mean(), inplace=True)\n",
    "\n",
    "# Using Z-score normalization for Age feature so as to have a same range as the other features\n",
    "df['Age'] = (df['Age'] - df['Age'].mean()) / df['Age'].std()\n",
    "\n",
    "# One hot encoding for Sex feature\n",
    "sex_one_hot = pd.get_dummies(df['Sex'], prefix='is')\n",
    "df = df.join(sex_one_hot)\n",
    "df.drop(labels='Sex', axis=1, inplace=True)\n",
    "\n",
    "# One hot encoding for Pclass feature\n",
    "# If we let the model learn a proper weight of belonging to every passanger class in dataset\n",
    "# this feature will have a more predictive power\n",
    "pclass_one_hot = pd.get_dummies(df['Pclass'], prefix='is_from_class')\n",
    "df = df.join(pclass_one_hot)\n",
    "df.drop(labels='Pclass', axis=1, inplace=True)\n",
    "\n",
    "df.head()"
   ]
  },
  {
   "cell_type": "markdown",
   "id": "b3c13fd7",
   "metadata": {
    "papermill": {
     "duration": 0.003821,
     "end_time": "2022-07-07T17:11:52.527359",
     "exception": false,
     "start_time": "2022-07-07T17:11:52.523538",
     "status": "completed"
    },
    "tags": []
   },
   "source": [
    "# Splitting data into test and validation sets"
   ]
  },
  {
   "cell_type": "code",
   "execution_count": 4,
   "id": "0012d75b",
   "metadata": {
    "execution": {
     "iopub.execute_input": "2022-07-07T17:11:52.537549Z",
     "iopub.status.busy": "2022-07-07T17:11:52.536644Z",
     "iopub.status.idle": "2022-07-07T17:11:52.545362Z",
     "shell.execute_reply": "2022-07-07T17:11:52.544543Z"
    },
    "papermill": {
     "duration": 0.016364,
     "end_time": "2022-07-07T17:11:52.547573",
     "exception": false,
     "start_time": "2022-07-07T17:11:52.531209",
     "status": "completed"
    },
    "tags": []
   },
   "outputs": [],
   "source": [
    "X = df.drop(labels='Survived', axis=1, inplace=False) # Features\n",
    "y = df['Survived'].copy() # Label\n",
    "\n",
    "X_train, X_val, y_train, y_val = train_test_split(X, y, test_size=0.2, random_state=1)"
   ]
  },
  {
   "cell_type": "markdown",
   "id": "e194be31",
   "metadata": {
    "papermill": {
     "duration": 0.003492,
     "end_time": "2022-07-07T17:11:52.554952",
     "exception": false,
     "start_time": "2022-07-07T17:11:52.551460",
     "status": "completed"
    },
    "tags": []
   },
   "source": [
    "# Training model and computing metrics"
   ]
  },
  {
   "cell_type": "code",
   "execution_count": 5,
   "id": "391e40b1",
   "metadata": {
    "execution": {
     "iopub.execute_input": "2022-07-07T17:11:52.564800Z",
     "iopub.status.busy": "2022-07-07T17:11:52.564027Z",
     "iopub.status.idle": "2022-07-07T17:11:54.525001Z",
     "shell.execute_reply": "2022-07-07T17:11:54.523776Z"
    },
    "papermill": {
     "duration": 1.969085,
     "end_time": "2022-07-07T17:11:54.527691",
     "exception": false,
     "start_time": "2022-07-07T17:11:52.558606",
     "status": "completed"
    },
    "tags": []
   },
   "outputs": [
    {
     "name": "stdout",
     "output_type": "stream",
     "text": [
      "Accuracy: 0.8044692737430168\n",
      "Precision: 0.796875\n",
      "Recall: 0.6986301369863014\n"
     ]
    },
    {
     "data": {
      "text/html": [
       "<div>\n",
       "<style scoped>\n",
       "    .dataframe tbody tr th:only-of-type {\n",
       "        vertical-align: middle;\n",
       "    }\n",
       "\n",
       "    .dataframe tbody tr th {\n",
       "        vertical-align: top;\n",
       "    }\n",
       "\n",
       "    .dataframe thead th {\n",
       "        text-align: right;\n",
       "    }\n",
       "</style>\n",
       "<table border=\"1\" class=\"dataframe\">\n",
       "  <thead>\n",
       "    <tr style=\"text-align: right;\">\n",
       "      <th></th>\n",
       "      <th>True</th>\n",
       "      <th>Pred</th>\n",
       "    </tr>\n",
       "  </thead>\n",
       "  <tbody>\n",
       "    <tr>\n",
       "      <th>862</th>\n",
       "      <td>1</td>\n",
       "      <td>1</td>\n",
       "    </tr>\n",
       "    <tr>\n",
       "      <th>223</th>\n",
       "      <td>0</td>\n",
       "      <td>0</td>\n",
       "    </tr>\n",
       "    <tr>\n",
       "      <th>84</th>\n",
       "      <td>1</td>\n",
       "      <td>1</td>\n",
       "    </tr>\n",
       "    <tr>\n",
       "      <th>680</th>\n",
       "      <td>0</td>\n",
       "      <td>1</td>\n",
       "    </tr>\n",
       "    <tr>\n",
       "      <th>535</th>\n",
       "      <td>1</td>\n",
       "      <td>1</td>\n",
       "    </tr>\n",
       "    <tr>\n",
       "      <th>623</th>\n",
       "      <td>0</td>\n",
       "      <td>0</td>\n",
       "    </tr>\n",
       "    <tr>\n",
       "      <th>148</th>\n",
       "      <td>0</td>\n",
       "      <td>0</td>\n",
       "    </tr>\n",
       "    <tr>\n",
       "      <th>3</th>\n",
       "      <td>1</td>\n",
       "      <td>1</td>\n",
       "    </tr>\n",
       "    <tr>\n",
       "      <th>34</th>\n",
       "      <td>0</td>\n",
       "      <td>0</td>\n",
       "    </tr>\n",
       "    <tr>\n",
       "      <th>241</th>\n",
       "      <td>1</td>\n",
       "      <td>1</td>\n",
       "    </tr>\n",
       "    <tr>\n",
       "      <th>794</th>\n",
       "      <td>0</td>\n",
       "      <td>0</td>\n",
       "    </tr>\n",
       "    <tr>\n",
       "      <th>2</th>\n",
       "      <td>1</td>\n",
       "      <td>1</td>\n",
       "    </tr>\n",
       "    <tr>\n",
       "      <th>6</th>\n",
       "      <td>0</td>\n",
       "      <td>0</td>\n",
       "    </tr>\n",
       "    <tr>\n",
       "      <th>17</th>\n",
       "      <td>1</td>\n",
       "      <td>0</td>\n",
       "    </tr>\n",
       "    <tr>\n",
       "      <th>368</th>\n",
       "      <td>1</td>\n",
       "      <td>1</td>\n",
       "    </tr>\n",
       "  </tbody>\n",
       "</table>\n",
       "</div>"
      ],
      "text/plain": [
       "     True  Pred\n",
       "862     1     1\n",
       "223     0     0\n",
       "84      1     1\n",
       "680     0     1\n",
       "535     1     1\n",
       "623     0     0\n",
       "148     0     0\n",
       "3       1     1\n",
       "34      0     0\n",
       "241     1     1\n",
       "794     0     0\n",
       "2       1     1\n",
       "6       0     0\n",
       "17      1     0\n",
       "368     1     1"
      ]
     },
     "execution_count": 5,
     "metadata": {},
     "output_type": "execute_result"
    }
   ],
   "source": [
    "model = LogisticRegressor(threshold=0.5)\n",
    "model.fit(X_train.values, y_train.values)\n",
    "y_pred = model.classify(X_val.values)\n",
    "\n",
    "z = pd.DataFrame({\n",
    "    'True': y_val,\n",
    "    'Pred': y_pred\n",
    "})\n",
    "\n",
    "print(\"Accuracy:\", metrics.accuracy_score(y_val, y_pred))\n",
    "print(\"Precision:\", metrics.precision_score(y_val, y_pred))\n",
    "print(\"Recall:\", metrics.recall_score(y_val, y_pred))\n",
    "\n",
    "z.head(15)"
   ]
  },
  {
   "cell_type": "markdown",
   "id": "34bb828f",
   "metadata": {
    "papermill": {
     "duration": 0.003797,
     "end_time": "2022-07-07T17:11:54.535705",
     "exception": false,
     "start_time": "2022-07-07T17:11:54.531908",
     "status": "completed"
    },
    "tags": []
   },
   "source": [
    "## The final submission of this model to Kaggle competition scored 0.75837 (The higher score possible is 1.0)\n",
    "\n",
    "https://www.kaggle.com/code/sebastianandrade/titanic-challenge?scriptVersionId=100276781"
   ]
  }
 ],
 "metadata": {
  "kernelspec": {
   "display_name": "Python 3",
   "language": "python",
   "name": "python3"
  },
  "language_info": {
   "codemirror_mode": {
    "name": "ipython",
    "version": 3
   },
   "file_extension": ".py",
   "mimetype": "text/x-python",
   "name": "python",
   "nbconvert_exporter": "python",
   "pygments_lexer": "ipython3",
   "version": "3.7.12"
  },
  "papermill": {
   "default_parameters": {},
   "duration": 14.883427,
   "end_time": "2022-07-07T17:11:55.564154",
   "environment_variables": {},
   "exception": null,
   "input_path": "__notebook__.ipynb",
   "output_path": "__notebook__.ipynb",
   "parameters": {},
   "start_time": "2022-07-07T17:11:40.680727",
   "version": "2.3.4"
  }
 },
 "nbformat": 4,
 "nbformat_minor": 5
}
